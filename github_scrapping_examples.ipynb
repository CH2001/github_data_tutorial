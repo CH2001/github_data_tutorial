{
 "cells": [
  {
   "cell_type": "markdown",
   "metadata": {},
   "source": [
    "# Sample Code for Scraping GitHub.com Website\n",
    "## The code in this notebook and repository is a companion for the tutorial entitled:\n",
    "## The Challenges and Opportunities Mining GitHub\n",
    "\n",
    "The notebook is split into sections that show how different data collection tasks can be performed.\n",
    "\n",
    "Do not forget to look into utils.py as well."
   ]
  },
  {
   "cell_type": "markdown",
   "metadata": {},
   "source": [
    "# Scraping Websites\n",
    "\n",
    "You will need to install the excellent [requests_html](https://html.python-requests.org) library for python.\n",
    "\n",
    "You will also need the selector path or XPath for the items you would like to extract from a website.\n",
    "\n",
    "Using developer tools and HTML resource selector, we identified the following selector paths that we will use:\n"
   ]
  },
  {
   "cell_type": "code",
   "execution_count": 1,
   "metadata": {},
   "outputs": [],
   "source": [
    "# selector path for pulse in https://github.com/django/django/pulse\n",
    "pulse_sp = \"#js-repo-pjax-container > div.container.new-discussion-timeline.experiment-repo-nav > div.repository-content > div > div.col-9 > div.authors-and-code > div.section.diffstat-summary.v-align-top.pt-3.js-pulse-contribution-data > div\"\n",
    "\n",
    "# repo overview (top bar with contributor and license info) in https://github.com/django/django/\n",
    "repo_overview_sp = \"#js-repo-pjax-container > div.container.new-discussion-timeline.experiment-repo-nav > div.repository-content > div.overall-summary.overall-summary-bottomless\""
   ]
  },
  {
   "cell_type": "markdown",
   "metadata": {},
   "source": [
    "# Scraping Example With JavaScript Loading in Screen"
   ]
  },
  {
   "cell_type": "code",
   "execution_count": 2,
   "metadata": {},
   "outputs": [
    {
     "name": "stdout",
     "output_type": "stream",
     "text": [
      "['14 authors have pushed', '28 commits to master and', '46 commits to all branches. On master,', '64 files have changed and there have been', '1,289', 'additions and', '303', 'deletions']\n"
     ]
    }
   ],
   "source": [
    "# libraries needed\n",
    "import pandas as pd\n",
    "from requests_html import HTMLSession\n",
    "\n",
    "# install nest_asyncio from pip and patch issue in jupyter\n",
    "# use command: 'pip install nest_asyncio' in terminal or CMD\n",
    "import nest_asyncio\n",
    "nest_asyncio.apply()\n",
    "\n",
    "# fetch the html page\n",
    "session = HTMLSession()\n",
    "r = session.get(\"http://github.com/django/django/pulse\")\n",
    "\n",
    "# wait for javascript to render for 2 seconds\n",
    "r.html.render(sleep=2)\n",
    "\n",
    "# parse the HTML to get the selected part\n",
    "html_data = r.html.find(pulse_sp, first=True)\n",
    "\n",
    "# fetch all the HTML text that is tagged as strong\n",
    "# here we used list comprehensions from python\n",
    "text_data = [x.text for x in html_data.find(\"strong\")]\n",
    "\n",
    "# show the selected data\n",
    "print(text_data)"
   ]
  },
  {
   "cell_type": "code",
   "execution_count": 6,
   "metadata": {},
   "outputs": [],
   "source": [
    "# Parse data\n",
    "data = {\n",
    "    \"authors\": int(text_data[0].split()[0]),\n",
    "    \"commits_master\": int(text_data[1].split()[0]),\n",
    "    \"commits_all\": int(text_data[2].split()[0]),\n",
    "    \"files_changed\": int(text_data[3].split()[0]),\n",
    "    \"line_additions\": int(text_data[4].replace(\",\",\"\")),\n",
    "    \"line_deletions\": int(text_data[6].replace(\",\",\"\")),\n",
    "}\n",
    "    "
   ]
  },
  {
   "cell_type": "code",
   "execution_count": 8,
   "metadata": {},
   "outputs": [
    {
     "data": {
      "text/plain": [
       "{'authors': 14,\n",
       " 'commits_master': 28,\n",
       " 'commits_all': 46,\n",
       " 'files_changed': 64,\n",
       " 'line_additions': 1289,\n",
       " 'line_deletions': 303}"
      ]
     },
     "execution_count": 8,
     "metadata": {},
     "output_type": "execute_result"
    }
   ],
   "source": [
    "# data is in python data structure\n",
    "# can be easily manipulated and converted into dataframe\n",
    "# or stored as CSV to use with other data analysis software\n",
    "data"
   ]
  },
  {
   "cell_type": "markdown",
   "metadata": {},
   "source": [
    "# Example With No JavaScript on Screen"
   ]
  },
  {
   "cell_type": "code",
   "execution_count": 9,
   "metadata": {},
   "outputs": [],
   "source": [
    "# another example\n",
    "# fetch the html page\n",
    "session = HTMLSession()\n",
    "r = session.get(\"http://github.com/django/django/\")\n",
    "\n",
    "# fetching repo overview\n",
    "\n",
    "# parse the HTML to get the selected part\n",
    "# no need to render as no javascript is involved \n",
    "# in page loading\n",
    "html_data = r.html.find(repo_overview_sp, first=True)"
   ]
  },
  {
   "cell_type": "code",
   "execution_count": 12,
   "metadata": {},
   "outputs": [
    {
     "data": {
      "text/plain": [
       "['26,749 commits',\n",
       " '46 branches',\n",
       " '215 releases',\n",
       " '1,715 contributors',\n",
       " 'View license',\n",
       " 'Python 95.8%',\n",
       " 'JavaScript 1.9%',\n",
       " 'HTML 1.7%',\n",
       " 'CSS 0.6%',\n",
       " 'Shell 0.0%',\n",
       " 'Smarty 0.0%']"
      ]
     },
     "execution_count": 12,
     "metadata": {},
     "output_type": "execute_result"
    }
   ],
   "source": [
    "# let's look at the text data\n",
    "# IMPORTANT: available data may change from one project to another\n",
    "# do not assume that structure is the same\n",
    "html_data.text.split(\"\\n\")"
   ]
  },
  {
   "cell_type": "code",
   "execution_count": null,
   "metadata": {},
   "outputs": [],
   "source": []
  }
 ],
 "metadata": {
  "kernelspec": {
   "display_name": "Python 3",
   "language": "python",
   "name": "python3"
  },
  "language_info": {
   "codemirror_mode": {
    "name": "ipython",
    "version": 3
   },
   "file_extension": ".py",
   "mimetype": "text/x-python",
   "name": "python",
   "nbconvert_exporter": "python",
   "pygments_lexer": "ipython3",
   "version": "3.7.0"
  }
 },
 "nbformat": 4,
 "nbformat_minor": 2
}
